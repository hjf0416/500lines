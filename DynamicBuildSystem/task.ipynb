{
 "cells": [
  {
   "cell_type": "code",
   "execution_count": 1,
   "metadata": {},
   "outputs": [],
   "source": [
    "from graphlib import Graph\n",
    "from functools import wraps\n",
    "import re\n",
    "\n",
    "\n",
    "class Project:\n",
    "    def __init__(self):\n",
    "        self._task_stack = []\n",
    "        self._graph = Graph()\n",
    "    \n",
    "    def task(self, function):\n",
    "        @wraps(function)\n",
    "        def wrapper(*args):\n",
    "            task = Task(function, *args)\n",
    "            if self._task_stack:\n",
    "                self._graph.add_edge(task, self._task_stack[-1])\n",
    "            self._graph.clear_inputs_of(task)\n",
    "            self._task_stack.append(task)\n",
    "            \n",
    "            try:\n",
    "                value = task.exe()\n",
    "            finally:\n",
    "                self._task_stack.pop()\n",
    "                \n",
    "            return value\n",
    "        return wrapper\n",
    "\n",
    "class Task:\n",
    "    def __init__(self, function, *args):\n",
    "        self.function = function;\n",
    "        self.args = args;\n",
    "\n",
    "    def exe(self):\n",
    "        return self.function(*self.args)\n",
    "    \n",
    "    def __eq__(self, other):\n",
    "        return (self.function.__name__ == other.function.__name__) and (self.args == other.args)\n",
    "    \n",
    "    def __hash__(self):\n",
    "        return hash((self.function.__name__, self.args))\n",
    "    \n",
    "    def __repr__(self):\n",
    "        \"Produce a “syntactic,” source-like representation of the task.\"\n",
    "        return '{}({})'.format(self.function.__name__,\n",
    "                               ', '.join(repr(arg) for arg in self.args))\n",
    "\n",
    "project = Project()\n",
    "task = project.task\n",
    "\n",
    "index = \"\"\"\n",
    "Table of Contents\n",
    "-----------------\n",
    "* `tutorial.txt`\n",
    "* `api.txt`\n",
    "\"\"\"\n",
    "\n",
    "tutorial = \"\"\"\n",
    "Beginners Tutorial\n",
    "------------------\n",
    "Welcome to the tutorial!\n",
    "We hope you enjoy it.\n",
    "\"\"\"\n",
    "\n",
    "api = \"\"\"\n",
    "API Reference\n",
    "-------------\n",
    "You might want to read\n",
    "the `tutorial.txt` first.\n",
    "\"\"\"\n",
    "\n",
    "filesystem = {'index.txt': index,\n",
    "              'tutorial.txt': tutorial,\n",
    "              'api.txt': api}\n",
    "LINK = '<a href=\"{}\">{}</a>'\n",
    "PAGE = '<h1>{}</h1>\\n<p>\\n{}\\n<p>'\n",
    "\n",
    "\n",
    "@task\n",
    "def read(filename):\n",
    "    return filesystem[filename]\n",
    "\n",
    "@task\n",
    "def parse(filename):\n",
    "    lines = read(filename).strip().splitlines()\n",
    "    title = lines[0]\n",
    "    body = '\\n'.join(lines[2:])\n",
    "    return title, body\n",
    "\n",
    "@task\n",
    "def title_of(filename):\n",
    "    title, body = parse(filename)\n",
    "    return title\n",
    "\n",
    "@task\n",
    "def body_of(filename):\n",
    "    title, body = parse(filename)\n",
    "    return body\n",
    "\n",
    "def make_link(match):\n",
    "    filename = match.group(1)\n",
    "    print filename, title_of(filename)\n",
    "    return LINK.format(filename, title_of(filename))\n",
    "\n",
    "@task\n",
    "def render(filename):\n",
    "    title, body = parse(filename)\n",
    "    body = re.sub(r'`([^`]+)`', make_link, body)\n",
    "    return PAGE.format(title,body)"
   ]
  },
  {
   "cell_type": "code",
   "execution_count": 2,
   "metadata": {},
   "outputs": [
    {
     "name": "stdout",
     "output_type": "stream",
     "text": [
      "tutorial.txt Beginners Tutorial\n",
      "api.txt API Reference\n",
      "tutorial.txt Beginners Tutorial\n"
     ]
    }
   ],
   "source": [
    "for filename in 'index.txt', 'tutorial.txt', 'api.txt':\n",
    "    render(filename);"
   ]
  },
  {
   "cell_type": "code",
   "execution_count": 1,
   "metadata": {},
   "outputs": [
    {
     "ename": "NameError",
     "evalue": "name 'Task' is not defined",
     "output_type": "error",
     "traceback": [
      "\u001b[0;31m---------------------------------------------------------------------------\u001b[0m",
      "\u001b[0;31mNameError\u001b[0m                                 Traceback (most recent call last)",
      "\u001b[0;32m<ipython-input-1-e82637b6ac1a>\u001b[0m in \u001b[0;36m<module>\u001b[0;34m()\u001b[0m\n\u001b[0;32m----> 1\u001b[0;31m \u001b[0mtask\u001b[0m \u001b[0;34m=\u001b[0m \u001b[0mTask\u001b[0m\u001b[0;34m(\u001b[0m\u001b[0mread\u001b[0m\u001b[0;34m,\u001b[0m \u001b[0;34m(\u001b[0m\u001b[0;34m'api.txt'\u001b[0m\u001b[0;34m)\u001b[0m\u001b[0;34m)\u001b[0m\u001b[0;34m\u001b[0m\u001b[0m\n\u001b[0m\u001b[1;32m      2\u001b[0m \u001b[0mtask2\u001b[0m \u001b[0;34m=\u001b[0m \u001b[0mTask\u001b[0m\u001b[0;34m(\u001b[0m\u001b[0mread\u001b[0m\u001b[0;34m,\u001b[0m \u001b[0;34m(\u001b[0m\u001b[0;34m'tutorial.txt'\u001b[0m\u001b[0;34m)\u001b[0m\u001b[0;34m)\u001b[0m\u001b[0;34m\u001b[0m\u001b[0m\n\u001b[1;32m      3\u001b[0m \u001b[0mproject\u001b[0m\u001b[0;34m.\u001b[0m\u001b[0m_graph\u001b[0m\u001b[0;34m.\u001b[0m\u001b[0mrecursive_consequences_of\u001b[0m\u001b[0;34m(\u001b[0m\u001b[0;34m[\u001b[0m\u001b[0mtask\u001b[0m\u001b[0;34m,\u001b[0m \u001b[0mtask2\u001b[0m\u001b[0;34m]\u001b[0m\u001b[0;34m)\u001b[0m\u001b[0;34m\u001b[0m\u001b[0m\n",
      "\u001b[0;31mNameError\u001b[0m: name 'Task' is not defined"
     ]
    }
   ],
   "source": [
    "task = Task(read, ('api.txt'))\n",
    "task2 = Task(read, ('tutorial.txt'))\n",
    "project._graph.recursive_consequences_of([task, task2])"
   ]
  },
  {
   "cell_type": "code",
   "execution_count": null,
   "metadata": {},
   "outputs": [],
   "source": []
  }
 ],
 "metadata": {
  "kernelspec": {
   "display_name": "Python 2",
   "language": "python",
   "name": "python2"
  },
  "language_info": {
   "codemirror_mode": {
    "name": "ipython",
    "version": 2
   },
   "file_extension": ".py",
   "mimetype": "text/x-python",
   "name": "python",
   "nbconvert_exporter": "python",
   "pygments_lexer": "ipython2",
   "version": "2.7.12"
  }
 },
 "nbformat": 4,
 "nbformat_minor": 2
}
