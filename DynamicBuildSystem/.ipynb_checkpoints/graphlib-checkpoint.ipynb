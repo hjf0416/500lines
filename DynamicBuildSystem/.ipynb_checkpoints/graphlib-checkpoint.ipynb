{
 "cells": [
  {
   "cell_type": "code",
   "execution_count": 59,
   "metadata": {},
   "outputs": [],
   "source": [
    "from collections import defaultdict\n",
    "from pprint import pprint\n",
    "\n",
    "class Graph:\n",
    "    sort_key = None\n",
    "    \n",
    "    def __init__(self):\n",
    "        self._inputs_of = defaultdict(set)\n",
    "        self._consequences_of = defaultdict(set)\n",
    "        \n",
    "    def add_edge(self, input_task, consequence_task):\n",
    "        self._inputs_of[consequence_task].add(input_task)\n",
    "        self._consequences_of[input_task].add(consequence_task)\n",
    "\n",
    "    def edges(self):\n",
    "        return [(a,b) for a in self.sorted(self._consequences_of)\n",
    "                      for b in self.sorted(self._consequences_of[a])]\n",
    "    \n",
    "    def sorted(self, nodes, reverse=False):\n",
    "        nodes = list(nodes)\n",
    "        try:\n",
    "            nodes.sort(key=self.sort_key, reverse=reverse)\n",
    "        except TypeError:\n",
    "            pass\n",
    "        return nodes\n",
    "    \n",
    "    def immediate_consequences_of(self, task):\n",
    "        return self.sorted(self._consequences_of[task])\n",
    "    \n",
    "    def clear_inputs_of(self, task):\n",
    "        \"\"\"Remove all edges leading to `task` from its previous inputs.\"\"\"\n",
    "        input_tasks = self._inputs_of.pop(task, ())\n",
    "        for input in input_tasks:\n",
    "            self._consequences_of[input].remove(task)\n",
    "        \n",
    "    def recursive_consequences_of(self, tasks):\n",
    "        \"\"\"Get recursive consequences of tasks\"\"\"\n",
    "        def visit(result, tasks):\n",
    "            for task in tasks:\n",
    "                result.add(task)\n",
    "                visit(result, self.immediate_consequences_of(task))\n",
    "        \n",
    "        result = set()\n",
    "        visit(result, tasks)\n",
    "        for task in tasks:\n",
    "            result.remove(task)\n",
    "            \n",
    "        return result\n",
    "\n",
    "g = Graph()\n",
    "g.add_edge('index.rst', 'index.html')\n",
    "g.add_edge('api.rst', 'api.html')\n",
    "g.add_edge('tutorial.rst', 'tutorial.html')\n",
    "\n",
    "g.add_edge('api.rst', 'api-title')\n",
    "g.add_edge('api-title', 'index.html')\n",
    "g.add_edge('tutorial.rst', 'tutorial-title')\n",
    "g.add_edge('tutorial-title', 'index.html')\n"
   ]
  },
  {
   "cell_type": "code",
   "execution_count": 60,
   "metadata": {},
   "outputs": [
    {
     "name": "stdout",
     "output_type": "stream",
     "text": [
      "{'index.html': 0}\n"
     ]
    },
    {
     "data": {
      "text/plain": [
       "['index.html', 'api-title', 'api.html']"
      ]
     },
     "execution_count": 60,
     "metadata": {},
     "output_type": "execute_result"
    }
   ],
   "source": [
    "g.recursive_consequences_of(['index.rst', 'api.rst'])"
   ]
  },
  {
   "cell_type": "code",
   "execution_count": null,
   "metadata": {},
   "outputs": [],
   "source": []
  }
 ],
 "metadata": {
  "kernelspec": {
   "display_name": "Python 2",
   "language": "python",
   "name": "python2"
  },
  "language_info": {
   "codemirror_mode": {
    "name": "ipython",
    "version": 2
   },
   "file_extension": ".py",
   "mimetype": "text/x-python",
   "name": "python",
   "nbconvert_exporter": "python",
   "pygments_lexer": "ipython2",
   "version": "2.7.12"
  }
 },
 "nbformat": 4,
 "nbformat_minor": 2
}
